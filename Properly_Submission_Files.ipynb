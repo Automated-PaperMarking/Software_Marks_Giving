{
  "nbformat": 4,
  "nbformat_minor": 0,
  "metadata": {
    "colab": {
      "provenance": [],
      "authorship_tag": "ABX9TyMZLGgKMC7O4OnmvKDGh0IS",
      "include_colab_link": true
    },
    "kernelspec": {
      "name": "python3",
      "display_name": "Python 3"
    },
    "language_info": {
      "name": "python"
    }
  },
  "cells": [
    {
      "cell_type": "markdown",
      "metadata": {
        "id": "view-in-github",
        "colab_type": "text"
      },
      "source": [
        "<a href=\"https://colab.research.google.com/github/UmeshGayashan/Software_Marks_Giving/blob/main/Properly_Submission_Files.ipynb\" target=\"_parent\"><img src=\"https://colab.research.google.com/assets/colab-badge.svg\" alt=\"Open In Colab\"/></a>"
      ]
    },
    {
      "cell_type": "markdown",
      "source": [
        "## 1. Mount Google Drive"
      ],
      "metadata": {
        "id": "6FRibyfmrXhT"
      }
    },
    {
      "cell_type": "code",
      "source": [
        "import os\n",
        "from glob import glob\n",
        "from bs4 import BeautifulSoup\n",
        "\n",
        "from google.colab import drive\n",
        "drive.mount('/content/drive')\n",
        "\n",
        "DATASET_PATH = '/content/drive/MyDrive/SS_Dataset'"
      ],
      "metadata": {
        "colab": {
          "base_uri": "https://localhost:8080/"
        },
        "id": "BCiXWY5KrNji",
        "outputId": "f6e32380-2d30-4cac-c36c-da0da129abca"
      },
      "execution_count": 2,
      "outputs": [
        {
          "output_type": "stream",
          "name": "stdout",
          "text": [
            "Mounted at /content/drive\n"
          ]
        }
      ]
    },
    {
      "cell_type": "markdown",
      "source": [
        "## 2. Extract problem statements from Problems/*.html"
      ],
      "metadata": {
        "id": "3-NDCwx4riEx"
      }
    },
    {
      "cell_type": "code",
      "source": [
        "def extract_problem_text(html_file):\n",
        "    with open(html_file, 'r', encoding='utf-8') as f:\n",
        "        soup = BeautifulSoup(f, 'html.parser')\n",
        "        text = soup.get_text(separator=\"\\n\", strip=True)\n",
        "        # Extract first 150 words\n",
        "        words = text.split()\n",
        "        return ' '.join(words[:150])\n",
        "\n",
        "problem_texts = {}  # {problem_id: first150words}\n",
        "problems_dir = os.path.join(DATASET_PATH, \"Problems\")\n",
        "html_files = glob(os.path.join(problems_dir, \"p*.html\"))\n",
        "\n",
        "for html_file in html_files:\n",
        "    problem_id = os.path.splitext(os.path.basename(html_file))[0]   # 'p00000'\n",
        "    problem_texts[problem_id] = extract_problem_text(html_file)\n",
        "\n",
        "print(f\"Extracted {len(problem_texts)} problem statements.\")"
      ],
      "metadata": {
        "colab": {
          "base_uri": "https://localhost:8080/"
        },
        "id": "HBujT6MqrQc3",
        "outputId": "01b4d2b0-3b6c-46e9-96ec-1e88458ca2b4"
      },
      "execution_count": 3,
      "outputs": [
        {
          "output_type": "stream",
          "name": "stdout",
          "text": [
            "Extracted 10 problem statements.\n"
          ]
        }
      ]
    },
    {
      "cell_type": "markdown",
      "source": [
        "## 3. Gather up to 3 .c files for every problem"
      ],
      "metadata": {
        "id": "9UbF_mj6rtip"
      }
    },
    {
      "cell_type": "code",
      "execution_count": 4,
      "metadata": {
        "colab": {
          "base_uri": "https://localhost:8080/"
        },
        "id": "7qq8EEYzqXfZ",
        "outputId": "496f5c62-5278-41ad-85f7-1a7544de2dd7"
      },
      "outputs": [
        {
          "output_type": "stream",
          "name": "stdout",
          "text": [
            "\n",
            "Problem: p00000\n",
            "Statement (first 150 words):\n",
            "QQ Write a program which prints multiplication tables in the following format: 1x1=1 1x2=2 . . 9x8=72 9x9=81 Input No input. Output 1x1=1 1x2=2 . . 9x8=72 9x9=81 Template for C #include<stdio.h> int main(){ return 0; } Template for C++ #include<iostream> using namespace std; int main(){ return 0; } Template for Java class Main{ public static void main(String[] a){ } }\n",
            "\n",
            "  Sample 1: /content/drive/MyDrive/SS_Dataset/p00000/C/s000369988.c\n",
            "  Sample 2: /content/drive/MyDrive/SS_Dataset/p00000/C/s000552118.c\n",
            "  Sample 3: /content/drive/MyDrive/SS_Dataset/p00000/C/s000899239.c\n",
            "\n",
            "Problem: p00001\n",
            "Statement (first 150 words):\n",
            "List of Top 3 Hills There is a data which provides heights (in meter) of mountains. The data is only for ten mountains. Write a program which prints heights of the top three mountains in descending order. Input Height of mountain 1 Height of mountain 2 Height of mountain 3 . . Height of mountain 10 Constraints 0 ≤ height of mountain (integer) ≤ 10,000 Output Height of the 1st mountain Height of the 2nd mountain Height of the 3rd mountain Sample Input 1 1819 2003 876 2840 1723 1673 3776 2848 1592 922 Output for the Sample Input 1 3776 2848 2840 Sample Input 2 100 200 300 400 500 600 700 800 900 900 Output for the Sample Input 2 900 900 800\n",
            "\n",
            "  Sample 1: /content/drive/MyDrive/SS_Dataset/p00001/C/s000149616.c\n",
            "  Sample 2: /content/drive/MyDrive/SS_Dataset/p00001/C/s000586295.c\n",
            "  Sample 3: /content/drive/MyDrive/SS_Dataset/p00001/C/s000623370.c\n",
            "\n",
            "Problem: p00002\n",
            "Statement (first 150 words):\n",
            "Digit Number Write a program which computes the digit number of sum of two integers a and b . Input There are several test cases. Each test case consists of two non-negative integers a and b which are separeted by a space in a line. The input terminates with EOF. Constraints 0 ≤ a , b ≤ 1,000,000 The number of datasets ≤ 200 Output Print the number of digits of a + b for each data set. Sample Input 5 7 1 99 1000 999 Output for the Sample Input 2 3 4\n",
            "\n",
            "  Sample 1: /content/drive/MyDrive/SS_Dataset/p00002/C/s000665899.c\n",
            "  Sample 2: /content/drive/MyDrive/SS_Dataset/p00002/C/s000814884.c\n",
            "  Sample 3: /content/drive/MyDrive/SS_Dataset/p00002/C/s000912570.c\n",
            "\n",
            "Problem: p00003\n",
            "Statement (first 150 words):\n",
            "Is it a Right Triangle? Write a program which judges wheather given length of three side form a right triangle. Print \" YES \" if the given sides (integers) form a right triangle, \" NO \" if not so. Input Input consists of several data sets. In the first line, the number of data set, N is given. Then, N lines follow, each line corresponds to a data set. A data set consists of three integers separated by a single space. Constraints 1 ≤ length of the side ≤ 1,000 N ≤ 1,000 Output For each data set, print \" YES \" or \" NO \". Sample Input 3 4 3 5 4 3 6 8 8 8 Output for the Sample Input YES NO NO\n",
            "\n",
            "  Sample 1: /content/drive/MyDrive/SS_Dataset/p00003/C/s000146873.c\n",
            "  Sample 2: /content/drive/MyDrive/SS_Dataset/p00003/C/s000448656.c\n",
            "  Sample 3: /content/drive/MyDrive/SS_Dataset/p00003/C/s001868398.c\n",
            "\n",
            "Problem: p00004\n",
            "Statement (first 150 words):\n",
            "Simultaneous Equation Write a program which solve a simultaneous equation: ax + by = c dx + ey = f The program should print x and y for given a , b , c , d , e and f (-1,000 ≤ a, b, c, d, e, f ≤ 1,000). You can suppose that given equation has a unique solution. Input The input consists of several data sets, 1 line for each data set. In a data set, there will be a, b, c, d, e, f separated by a single space. The input terminates with EOF. Output For each data set, print x and y separated by a single space. Print the solution to three places of decimals. Round off the solution to three decimal places. Sample Input 1 1 2 3 4 5 6 2 -1 -2 -1 -1 -5 Output for the Sample Input 1 -1.000 2.000\n",
            "\n",
            "  Sample 1: /content/drive/MyDrive/SS_Dataset/p00004/C/s000103825.c\n",
            "  Sample 2: /content/drive/MyDrive/SS_Dataset/p00004/C/s000327035.c\n",
            "  Sample 3: /content/drive/MyDrive/SS_Dataset/p00004/C/s000427191.c\n",
            "\n",
            "Problem: p00005\n",
            "Statement (first 150 words):\n",
            "GCD and LCM Write a program which computes the greatest common divisor (GCD) and the least common multiple (LCM) of given a and b . Input Input consists of several data sets. Each data set contains a and b separated by a single space in a line. The input terminates with EOF. Constraints 0 < a, b ≤ 2,000,000,000 LCM( a, b ) ≤ 2,000,000,000 The number of data sets ≤ 50 Output For each data set, print GCD and LCM separated by a single space in a line. Sample Input 8 6 50000000 30000000 Output for the Sample Input 2 24 10000000 150000000\n",
            "\n",
            "  Sample 1: /content/drive/MyDrive/SS_Dataset/p00005/C/s001644869.c\n",
            "  Sample 2: /content/drive/MyDrive/SS_Dataset/p00005/C/s002025946.c\n",
            "  Sample 3: /content/drive/MyDrive/SS_Dataset/p00005/C/s003964082.c\n",
            "\n",
            "Problem: p00006\n",
            "Statement (first 150 words):\n",
            "Reverse Sequence Write a program which reverses a given string str . Input str (the size of str ≤ 20) is given in a line. Output Print the reversed str in a line. Sample Input w32nimda Output for the Sample Input admin23w\n",
            "\n",
            "  Sample 1: /content/drive/MyDrive/SS_Dataset/p00006/C/s001029845.c\n",
            "  Sample 2: /content/drive/MyDrive/SS_Dataset/p00006/C/s001063840.c\n",
            "  Sample 3: /content/drive/MyDrive/SS_Dataset/p00006/C/s001270199.c\n",
            "\n",
            "Problem: p00007\n",
            "Statement (first 150 words):\n",
            "Debt Hell Your friend who lives in undisclosed country is involved in debt. He is borrowing 100,000-yen from a loan shark. The loan shark adds 5% interest of the debt and rounds it to the nearest 1,000 above week by week. Write a program which computes the amount of the debt in n weeks. Input An integer n (0 ≤ n ≤ 100) is given in a line. Output Print the amout of the debt in a line. Sample Input 5 Output for the Sample Input 130000\n",
            "\n",
            "\n",
            "Problem: p00008\n",
            "Statement (first 150 words):\n",
            "Sum of 4 Integers Write a program which reads an integer n and identifies the number of combinations of a, b, c and d (0 ≤ a, b, c, d ≤ 9) which meet the following equality: a + b + c + d = n For example, for n = 35, we have 4 different combinations of ( a, b, c, d ): ( 8, 9, 9, 9 ), ( 9, 8, 9, 9 ), ( 9, 9, 8, 9 ), and ( 9, 9, 9, 8 ). Input The input consists of several datasets. Each dataset consists of n (1 ≤ n ≤ 50) in a line. The number of datasets is less than or equal to 50. Output Print the number of combination in a line. Sample Input 35 1 Output for the Sample Input 4 4\n",
            "\n",
            "  Sample 1: /content/drive/MyDrive/SS_Dataset/p00008/C/s000875610.c\n",
            "  Sample 2: /content/drive/MyDrive/SS_Dataset/p00008/C/s000914678.c\n",
            "  Sample 3: /content/drive/MyDrive/SS_Dataset/p00008/C/s002782112.c\n",
            "\n",
            "Problem: p00009\n",
            "Statement (first 150 words):\n",
            "Prime Number Write a program which reads an integer n and prints the number of prime numbers which are less than or equal to n . A prime number is a natural number which has exactly two distinct natural number divisors: 1 and itself. For example, the first four prime numbers are: 2, 3, 5 and 7. Input Input consists of several datasets. Each dataset has an integer n (1 ≤ n ≤ 999,999) in a line. The number of datasets is less than or equal to 30. Output For each dataset, prints the number of prime numbers. Sample Input 10 3 11 Output for the Sample Input 4 2 5\n",
            "\n",
            "  Sample 1: /content/drive/MyDrive/SS_Dataset/p00009/C/s000135784.c\n",
            "  Sample 2: /content/drive/MyDrive/SS_Dataset/p00009/C/s000170694.c\n",
            "  Sample 3: /content/drive/MyDrive/SS_Dataset/p00009/C/s000177755.c\n"
          ]
        }
      ],
      "source": [
        "samples_per_problem = 3\n",
        "all_samples = {}  # {problem_id: [file1, file2, file3] }\n",
        "\n",
        "problem_dirs = [d for d in os.listdir(DATASET_PATH) if d.startswith('p') and os.path.isdir(os.path.join(DATASET_PATH, d))]\n",
        "for pid in problem_dirs:\n",
        "    c_folder = os.path.join(DATASET_PATH, pid, 'C')\n",
        "    if os.path.isdir(c_folder):\n",
        "        c_files = sorted(glob(os.path.join(c_folder, '*.c')))\n",
        "        all_samples[pid] = c_files[:samples_per_problem]\n",
        "\n",
        "# Print the samples with the first 150 words of the problem\n",
        "for pid in sorted(all_samples.keys()):\n",
        "    print(f\"\\nProblem: {pid}\")\n",
        "    # Print first 150 words (if available)\n",
        "    problem_preview = problem_texts.get(pid, \"[No statement found]\")\n",
        "    print(f\"Statement (first 150 words):\\n{problem_preview}\\n\")\n",
        "    for i, fpath in enumerate(all_samples[pid], 1):\n",
        "        print(f\"  Sample {i}: {fpath}\")\n"
      ]
    }
  ]
}